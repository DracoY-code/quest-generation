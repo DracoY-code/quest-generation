{
 "cells": [
  {
   "cell_type": "markdown",
   "id": "c9503267",
   "metadata": {},
   "source": [
    "## QuestGen-LLM: Evaluation\n",
    "\n",
    "This notebook covers the performance evaluation of the various pre-trained _large language models_ (LLMs) trained on the prepared [\"quest\"](../data/quests_train.json) dataset. This evaluation is done through the training log dumps by employing various metrics like [ADD METRICS HERE]. A human evaluation method is also prepared to manually test various properties (e.g., [ADD PROPERTIES HERE]) of the quests generated through the LLMs.\n"
   ]
  },
  {
   "cell_type": "code",
   "execution_count": null,
   "id": "5ba548f1",
   "metadata": {},
   "outputs": [],
   "source": []
  }
 ],
 "metadata": {
  "kernelspec": {
   "display_name": "questgen",
   "language": "python",
   "name": "python3"
  },
  "language_info": {
   "name": "python",
   "version": "3.13.2"
  }
 },
 "nbformat": 4,
 "nbformat_minor": 5
}
